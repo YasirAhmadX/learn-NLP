{
  "nbformat": 4,
  "nbformat_minor": 0,
  "metadata": {
    "colab": {
      "provenance": [],
      "authorship_tag": "ABX9TyOgyeXXROwKZCGPItfUtURo",
      "include_colab_link": true
    },
    "kernelspec": {
      "name": "python3",
      "display_name": "Python 3"
    },
    "language_info": {
      "name": "python"
    }
  },
  "cells": [
    {
      "cell_type": "markdown",
      "metadata": {
        "id": "view-in-github",
        "colab_type": "text"
      },
      "source": [
        "<a href=\"https://colab.research.google.com/github/YasirAhmadX/learn-NLP/blob/main/NLP_TFIDF.ipynb\" target=\"_parent\"><img src=\"https://colab.research.google.com/assets/colab-badge.svg\" alt=\"Open In Colab\"/></a>"
      ]
    },
    {
      "cell_type": "code",
      "execution_count": 1,
      "metadata": {
        "colab": {
          "base_uri": "https://localhost:8080/"
        },
        "id": "uxERZqnj86w1",
        "outputId": "811af9a2-5d3d-44e0-d860-61d951ab475d"
      },
      "outputs": [
        {
          "output_type": "stream",
          "name": "stdout",
          "text": [
            "Requirement already satisfied: nltk in /usr/local/lib/python3.10/dist-packages (3.8.1)\n",
            "Requirement already satisfied: click in /usr/local/lib/python3.10/dist-packages (from nltk) (8.1.7)\n",
            "Requirement already satisfied: joblib in /usr/local/lib/python3.10/dist-packages (from nltk) (1.4.2)\n",
            "Requirement already satisfied: regex>=2021.8.3 in /usr/local/lib/python3.10/dist-packages (from nltk) (2024.5.15)\n",
            "Requirement already satisfied: tqdm in /usr/local/lib/python3.10/dist-packages (from nltk) (4.66.4)\n"
          ]
        }
      ],
      "source": [
        "!pip install nltk"
      ]
    },
    {
      "cell_type": "code",
      "source": [
        "PARAGRAPH = \"\"\"Automobili Lamborghini S.p.A. (Italian: [autoˈmɔːbili lamborˈɡiːni]) is an Italian manufacturer of luxury sports cars and SUVs based in Sant'Agata Bolognese. The company is owned by the Volkswagen Group through its subsidiary Audi.\n",
        "\n",
        "Ferruccio Lamborghini (1916–1993), an Italian manufacturing magnate, founded Automobili Ferruccio Lamborghini S.p.A. in 1963 to compete with Ferrari. The company was noted for using a rear mid-engine, rear-wheel drive layout. Lamborghini grew rapidly during its first decade, but sales plunged in the wake of the 1973 worldwide financial downturn and the oil crisis. The firm's ownership changed three times after 1973, including a bankruptcy in 1978. American Chrysler Corporation took control of Lamborghini in 1987 and sold it to Malaysian investment group Mycom Setdco and Indonesian group V'Power Corporation in 1994. In 1998, Mycom Setdco and V'Power sold Lamborghini to the Volkswagen Group where it was placed under the control of the group's Audi division.\n",
        "\n",
        "New products and model lines were introduced to the brand's portfolio and brought to the market and saw an increased productivity for the brand. In the late 2000s, during the worldwide financial crisis and the subsequent economic crisis, Lamborghini's sales saw a drop of nearly 50 per cent.\n",
        "\n",
        "Lamborghini currently produces the V10-powered Huracán, Urus SUV powered by a twin-turbo V8 engine, and will produce the Revuelto, a V12/electric hybrid, as of 2024. In addition, the company produces V12 engines for offshore powerboat racing.\n",
        "\n",
        "Lamborghini Trattori, founded in 1948 by Ferruccio Lamborghini, is headquartered in Pieve di Cento, Italy, and continues to produce tractors. Since 1973, Lamborghini Trattori has been a separate entity from the automobile manufacturer.\"\"\"\n"
      ],
      "metadata": {
        "id": "jIEOEFr-9AY0"
      },
      "execution_count": 2,
      "outputs": []
    },
    {
      "cell_type": "code",
      "source": [
        "PARAGRAPH"
      ],
      "metadata": {
        "colab": {
          "base_uri": "https://localhost:8080/",
          "height": 254
        },
        "id": "yVdYiL-u9f3t",
        "outputId": "1ebd384d-62a8-4ca2-f26b-46cbead69039"
      },
      "execution_count": 3,
      "outputs": [
        {
          "output_type": "execute_result",
          "data": {
            "text/plain": [
              "\"Automobili Lamborghini S.p.A. (Italian: [autoˈmɔːbili lamborˈɡiːni]) is an Italian manufacturer of luxury sports cars and SUVs based in Sant'Agata Bolognese. The company is owned by the Volkswagen Group through its subsidiary Audi.\\n\\nFerruccio Lamborghini (1916–1993), an Italian manufacturing magnate, founded Automobili Ferruccio Lamborghini S.p.A. in 1963 to compete with Ferrari. The company was noted for using a rear mid-engine, rear-wheel drive layout. Lamborghini grew rapidly during its first decade, but sales plunged in the wake of the 1973 worldwide financial downturn and the oil crisis. The firm's ownership changed three times after 1973, including a bankruptcy in 1978. American Chrysler Corporation took control of Lamborghini in 1987 and sold it to Malaysian investment group Mycom Setdco and Indonesian group V'Power Corporation in 1994. In 1998, Mycom Setdco and V'Power sold Lamborghini to the Volkswagen Group where it was placed under the control of the group's Audi division.\\n\\nNew products and model lines were introduced to the brand's portfolio and brought to the market and saw an increased productivity for the brand. In the late 2000s, during the worldwide financial crisis and the subsequent economic crisis, Lamborghini's sales saw a drop of nearly 50 per cent.\\n\\nLamborghini currently produces the V10-powered Huracán, Urus SUV powered by a twin-turbo V8 engine, and will produce the Revuelto, a V12/electric hybrid, as of 2024. In addition, the company produces V12 engines for offshore powerboat racing.\\n\\nLamborghini Trattori, founded in 1948 by Ferruccio Lamborghini, is headquartered in Pieve di Cento, Italy, and continues to produce tractors. Since 1973, Lamborghini Trattori has been a separate entity from the automobile manufacturer.\""
            ],
            "application/vnd.google.colaboratory.intrinsic+json": {
              "type": "string"
            }
          },
          "metadata": {},
          "execution_count": 3
        }
      ]
    },
    {
      "cell_type": "code",
      "source": [
        "import nltk\n",
        "from nltk.stem import PorterStemmer\n",
        "from nltk.corpus import stopwords"
      ],
      "metadata": {
        "id": "mcxZcnOd9grU"
      },
      "execution_count": 4,
      "outputs": []
    },
    {
      "cell_type": "code",
      "source": [
        "#tokenization >-- coverts paragraphs into sentences and words\n",
        "nltk.download('punkt')\n",
        "sentences = nltk.sent_tokenize(PARAGRAPH)"
      ],
      "metadata": {
        "colab": {
          "base_uri": "https://localhost:8080/"
        },
        "id": "x5kptydl905z",
        "outputId": "fe89bb54-38b4-4648-c0f6-9690c28e363f"
      },
      "execution_count": 5,
      "outputs": [
        {
          "output_type": "stream",
          "name": "stderr",
          "text": [
            "[nltk_data] Downloading package punkt to /root/nltk_data...\n",
            "[nltk_data]   Unzipping tokenizers/punkt.zip.\n"
          ]
        }
      ]
    },
    {
      "cell_type": "code",
      "source": [
        "print(sentences)"
      ],
      "metadata": {
        "colab": {
          "base_uri": "https://localhost:8080/"
        },
        "id": "2kDbQzez93dy",
        "outputId": "020db00c-54de-47e8-c4db-610d33eee555"
      },
      "execution_count": 6,
      "outputs": [
        {
          "output_type": "stream",
          "name": "stdout",
          "text": [
            "[\"Automobili Lamborghini S.p.A. (Italian: [autoˈmɔːbili lamborˈɡiːni]) is an Italian manufacturer of luxury sports cars and SUVs based in Sant'Agata Bolognese.\", 'The company is owned by the Volkswagen Group through its subsidiary Audi.', 'Ferruccio Lamborghini (1916–1993), an Italian manufacturing magnate, founded Automobili Ferruccio Lamborghini S.p.A. in 1963 to compete with Ferrari.', 'The company was noted for using a rear mid-engine, rear-wheel drive layout.', 'Lamborghini grew rapidly during its first decade, but sales plunged in the wake of the 1973 worldwide financial downturn and the oil crisis.', \"The firm's ownership changed three times after 1973, including a bankruptcy in 1978.\", \"American Chrysler Corporation took control of Lamborghini in 1987 and sold it to Malaysian investment group Mycom Setdco and Indonesian group V'Power Corporation in 1994.\", \"In 1998, Mycom Setdco and V'Power sold Lamborghini to the Volkswagen Group where it was placed under the control of the group's Audi division.\", \"New products and model lines were introduced to the brand's portfolio and brought to the market and saw an increased productivity for the brand.\", \"In the late 2000s, during the worldwide financial crisis and the subsequent economic crisis, Lamborghini's sales saw a drop of nearly 50 per cent.\", 'Lamborghini currently produces the V10-powered Huracán, Urus SUV powered by a twin-turbo V8 engine, and will produce the Revuelto, a V12/electric hybrid, as of 2024.', 'In addition, the company produces V12 engines for offshore powerboat racing.', 'Lamborghini Trattori, founded in 1948 by Ferruccio Lamborghini, is headquartered in Pieve di Cento, Italy, and continues to produce tractors.', 'Since 1973, Lamborghini Trattori has been a separate entity from the automobile manufacturer.']\n"
          ]
        }
      ]
    },
    {
      "cell_type": "code",
      "source": [
        "stemmer = PorterStemmer()"
      ],
      "metadata": {
        "id": "eL_uOk7g-KpD"
      },
      "execution_count": 7,
      "outputs": []
    },
    {
      "cell_type": "code",
      "source": [
        "stemmer.stem('finalize') #demo"
      ],
      "metadata": {
        "colab": {
          "base_uri": "https://localhost:8080/",
          "height": 36
        },
        "id": "K6tFPl70-bbN",
        "outputId": "96616d4d-33a1-4f72-9cf4-28e5ca7558a9"
      },
      "execution_count": 8,
      "outputs": [
        {
          "output_type": "execute_result",
          "data": {
            "text/plain": [
              "'final'"
            ],
            "application/vnd.google.colaboratory.intrinsic+json": {
              "type": "string"
            }
          },
          "metadata": {},
          "execution_count": 8
        }
      ]
    },
    {
      "cell_type": "code",
      "source": [
        "stemmer.stem('history')"
      ],
      "metadata": {
        "colab": {
          "base_uri": "https://localhost:8080/",
          "height": 36
        },
        "id": "SkbFVSCB-xWo",
        "outputId": "3371a23c-6d62-4cb2-a7a8-5de6ae32c530"
      },
      "execution_count": 9,
      "outputs": [
        {
          "output_type": "execute_result",
          "data": {
            "text/plain": [
              "'histori'"
            ],
            "application/vnd.google.colaboratory.intrinsic+json": {
              "type": "string"
            }
          },
          "metadata": {},
          "execution_count": 9
        }
      ]
    },
    {
      "cell_type": "code",
      "source": [
        "stemmer.stem('historical')"
      ],
      "metadata": {
        "colab": {
          "base_uri": "https://localhost:8080/",
          "height": 36
        },
        "id": "LyVHZKcu-_G7",
        "outputId": "ddd32642-3f11-4465-abc6-8ff136858017"
      },
      "execution_count": 10,
      "outputs": [
        {
          "output_type": "execute_result",
          "data": {
            "text/plain": [
              "'histor'"
            ],
            "application/vnd.google.colaboratory.intrinsic+json": {
              "type": "string"
            }
          },
          "metadata": {},
          "execution_count": 10
        }
      ]
    },
    {
      "cell_type": "code",
      "source": [
        "nltk.download('wordnet')"
      ],
      "metadata": {
        "colab": {
          "base_uri": "https://localhost:8080/"
        },
        "id": "iPYKQ4lN_X3Q",
        "outputId": "68a96a1c-8887-4c06-d9d2-3f21018fa8f3"
      },
      "execution_count": 11,
      "outputs": [
        {
          "output_type": "stream",
          "name": "stderr",
          "text": [
            "[nltk_data] Downloading package wordnet to /root/nltk_data...\n"
          ]
        },
        {
          "output_type": "execute_result",
          "data": {
            "text/plain": [
              "True"
            ]
          },
          "metadata": {},
          "execution_count": 11
        }
      ]
    },
    {
      "cell_type": "code",
      "source": [
        " #Lemmatization\n",
        " from nltk.stem import WordNetLemmatizer\n",
        " lemmatizer = WordNetLemmatizer()"
      ],
      "metadata": {
        "id": "eAg-0zPT_ARm"
      },
      "execution_count": 12,
      "outputs": []
    },
    {
      "cell_type": "code",
      "source": [
        "lemmatizer.lemmatize('going')"
      ],
      "metadata": {
        "colab": {
          "base_uri": "https://localhost:8080/",
          "height": 36
        },
        "id": "_arVoMmd_L_i",
        "outputId": "02cf2426-62bd-4c5d-df3e-7ab2d1e56fa3"
      },
      "execution_count": 13,
      "outputs": [
        {
          "output_type": "execute_result",
          "data": {
            "text/plain": [
              "'going'"
            ],
            "application/vnd.google.colaboratory.intrinsic+json": {
              "type": "string"
            }
          },
          "metadata": {},
          "execution_count": 13
        }
      ]
    },
    {
      "cell_type": "code",
      "source": [
        "lemmatizer.lemmatize('goes')"
      ],
      "metadata": {
        "colab": {
          "base_uri": "https://localhost:8080/",
          "height": 36
        },
        "id": "AT2ki0EC_N_f",
        "outputId": "62b1766b-8221-4779-daaf-4746aa2792fd"
      },
      "execution_count": 14,
      "outputs": [
        {
          "output_type": "execute_result",
          "data": {
            "text/plain": [
              "'go'"
            ],
            "application/vnd.google.colaboratory.intrinsic+json": {
              "type": "string"
            }
          },
          "metadata": {},
          "execution_count": 14
        }
      ]
    },
    {
      "cell_type": "code",
      "source": [
        "#clean special characters\n",
        "import re"
      ],
      "metadata": {
        "id": "ACz2m_VR_14i"
      },
      "execution_count": 15,
      "outputs": []
    },
    {
      "cell_type": "code",
      "source": [
        "corpus = []\n",
        "for i in range(len(sentences)):\n",
        "  review = re.sub('[^a-zA-Z]',' ',sentences[i])\n",
        "  review = review.lower()\n",
        "  corpus.append(review)"
      ],
      "metadata": {
        "id": "cAsqcEka_lUy"
      },
      "execution_count": 16,
      "outputs": []
    },
    {
      "cell_type": "code",
      "source": [
        "corpus"
      ],
      "metadata": {
        "colab": {
          "base_uri": "https://localhost:8080/"
        },
        "id": "82XO-z08AVP5",
        "outputId": "8b8bb324-5dac-4507-b709-30f6624ed1a5"
      },
      "execution_count": 17,
      "outputs": [
        {
          "output_type": "execute_result",
          "data": {
            "text/plain": [
              "['automobili lamborghini s p a   italian   auto m  bili lambor  i ni   is an italian manufacturer of luxury sports cars and suvs based in sant agata bolognese ',\n",
              " 'the company is owned by the volkswagen group through its subsidiary audi ',\n",
              " 'ferruccio lamborghini              an italian manufacturing magnate  founded automobili ferruccio lamborghini s p a  in      to compete with ferrari ',\n",
              " 'the company was noted for using a rear mid engine  rear wheel drive layout ',\n",
              " 'lamborghini grew rapidly during its first decade  but sales plunged in the wake of the      worldwide financial downturn and the oil crisis ',\n",
              " 'the firm s ownership changed three times after       including a bankruptcy in      ',\n",
              " 'american chrysler corporation took control of lamborghini in      and sold it to malaysian investment group mycom setdco and indonesian group v power corporation in      ',\n",
              " 'in       mycom setdco and v power sold lamborghini to the volkswagen group where it was placed under the control of the group s audi division ',\n",
              " 'new products and model lines were introduced to the brand s portfolio and brought to the market and saw an increased productivity for the brand ',\n",
              " 'in the late     s  during the worldwide financial crisis and the subsequent economic crisis  lamborghini s sales saw a drop of nearly    per cent ',\n",
              " 'lamborghini currently produces the v   powered hurac n  urus suv powered by a twin turbo v  engine  and will produce the revuelto  a v   electric hybrid  as of      ',\n",
              " 'in addition  the company produces v   engines for offshore powerboat racing ',\n",
              " 'lamborghini trattori  founded in      by ferruccio lamborghini  is headquartered in pieve di cento  italy  and continues to produce tractors ',\n",
              " 'since       lamborghini trattori has been a separate entity from the automobile manufacturer ']"
            ]
          },
          "metadata": {},
          "execution_count": 17
        }
      ]
    },
    {
      "cell_type": "code",
      "source": [
        "nltk.download('stopwords')"
      ],
      "metadata": {
        "id": "BN8-9ymaBFAZ",
        "outputId": "bf505b77-b201-4229-94fd-95a5a8138bd8",
        "colab": {
          "base_uri": "https://localhost:8080/"
        }
      },
      "execution_count": 18,
      "outputs": [
        {
          "output_type": "stream",
          "name": "stderr",
          "text": [
            "[nltk_data] Downloading package stopwords to /root/nltk_data...\n",
            "[nltk_data]   Unzipping corpora/stopwords.zip.\n"
          ]
        },
        {
          "output_type": "execute_result",
          "data": {
            "text/plain": [
              "True"
            ]
          },
          "metadata": {},
          "execution_count": 18
        }
      ]
    },
    {
      "cell_type": "code",
      "source": [
        "##apply stemming\n",
        "for i in corpus:\n",
        "  words= nltk.word_tokenize(i)\n",
        "  for word in words:\n",
        "    if word not in set(stopwords.words('english')):\n",
        "      print(stemmer.stem(word))"
      ],
      "metadata": {
        "colab": {
          "base_uri": "https://localhost:8080/"
        },
        "collapsed": true,
        "id": "HQnDpLv5AZYj",
        "outputId": "04137ae0-5ae7-4629-f246-6ca00ea6e372"
      },
      "execution_count": 19,
      "outputs": [
        {
          "output_type": "stream",
          "name": "stdout",
          "text": [
            "automobili\n",
            "lamborghini\n",
            "p\n",
            "italian\n",
            "auto\n",
            "bili\n",
            "lambor\n",
            "ni\n",
            "italian\n",
            "manufactur\n",
            "luxuri\n",
            "sport\n",
            "car\n",
            "suv\n",
            "base\n",
            "sant\n",
            "agata\n",
            "bolognes\n",
            "compani\n",
            "own\n",
            "volkswagen\n",
            "group\n",
            "subsidiari\n",
            "audi\n",
            "ferruccio\n",
            "lamborghini\n",
            "italian\n",
            "manufactur\n",
            "magnat\n",
            "found\n",
            "automobili\n",
            "ferruccio\n",
            "lamborghini\n",
            "p\n",
            "compet\n",
            "ferrari\n",
            "compani\n",
            "note\n",
            "use\n",
            "rear\n",
            "mid\n",
            "engin\n",
            "rear\n",
            "wheel\n",
            "drive\n",
            "layout\n",
            "lamborghini\n",
            "grew\n",
            "rapidli\n",
            "first\n",
            "decad\n",
            "sale\n",
            "plung\n",
            "wake\n",
            "worldwid\n",
            "financi\n",
            "downturn\n",
            "oil\n",
            "crisi\n",
            "firm\n",
            "ownership\n",
            "chang\n",
            "three\n",
            "time\n",
            "includ\n",
            "bankruptci\n",
            "american\n",
            "chrysler\n",
            "corpor\n",
            "took\n",
            "control\n",
            "lamborghini\n",
            "sold\n",
            "malaysian\n",
            "invest\n",
            "group\n",
            "mycom\n",
            "setdco\n",
            "indonesian\n",
            "group\n",
            "v\n",
            "power\n",
            "corpor\n",
            "mycom\n",
            "setdco\n",
            "v\n",
            "power\n",
            "sold\n",
            "lamborghini\n",
            "volkswagen\n",
            "group\n",
            "place\n",
            "control\n",
            "group\n",
            "audi\n",
            "divis\n",
            "new\n",
            "product\n",
            "model\n",
            "line\n",
            "introduc\n",
            "brand\n",
            "portfolio\n",
            "brought\n",
            "market\n",
            "saw\n",
            "increas\n",
            "product\n",
            "brand\n",
            "late\n",
            "worldwid\n",
            "financi\n",
            "crisi\n",
            "subsequ\n",
            "econom\n",
            "crisi\n",
            "lamborghini\n",
            "sale\n",
            "saw\n",
            "drop\n",
            "nearli\n",
            "per\n",
            "cent\n",
            "lamborghini\n",
            "current\n",
            "produc\n",
            "v\n",
            "power\n",
            "hurac\n",
            "n\n",
            "uru\n",
            "suv\n",
            "power\n",
            "twin\n",
            "turbo\n",
            "v\n",
            "engin\n",
            "produc\n",
            "revuelto\n",
            "v\n",
            "electr\n",
            "hybrid\n",
            "addit\n",
            "compani\n",
            "produc\n",
            "v\n",
            "engin\n",
            "offshor\n",
            "powerboat\n",
            "race\n",
            "lamborghini\n",
            "trattori\n",
            "found\n",
            "ferruccio\n",
            "lamborghini\n",
            "headquart\n",
            "piev\n",
            "di\n",
            "cento\n",
            "itali\n",
            "continu\n",
            "produc\n",
            "tractor\n",
            "sinc\n",
            "lamborghini\n",
            "trattori\n",
            "separ\n",
            "entiti\n",
            "automobil\n",
            "manufactur\n"
          ]
        }
      ]
    },
    {
      "cell_type": "code",
      "source": [
        "## lemmatization\n",
        "for i in corpus:\n",
        "  words= nltk.word_tokenize(i)\n",
        "  for word in words:\n",
        "    if word not in set(stopwords.words('english')):\n",
        "      print(lemmatizer.lemmatize(word))"
      ],
      "metadata": {
        "collapsed": true,
        "id": "qDG8PNFCBAsP",
        "outputId": "4c1d0e43-9f84-4ede-949e-b48d8e8376af",
        "colab": {
          "base_uri": "https://localhost:8080/"
        }
      },
      "execution_count": 20,
      "outputs": [
        {
          "output_type": "stream",
          "name": "stdout",
          "text": [
            "automobili\n",
            "lamborghini\n",
            "p\n",
            "italian\n",
            "auto\n",
            "bili\n",
            "lambor\n",
            "ni\n",
            "italian\n",
            "manufacturer\n",
            "luxury\n",
            "sport\n",
            "car\n",
            "suv\n",
            "based\n",
            "sant\n",
            "agata\n",
            "bolognese\n",
            "company\n",
            "owned\n",
            "volkswagen\n",
            "group\n",
            "subsidiary\n",
            "audi\n",
            "ferruccio\n",
            "lamborghini\n",
            "italian\n",
            "manufacturing\n",
            "magnate\n",
            "founded\n",
            "automobili\n",
            "ferruccio\n",
            "lamborghini\n",
            "p\n",
            "compete\n",
            "ferrari\n",
            "company\n",
            "noted\n",
            "using\n",
            "rear\n",
            "mid\n",
            "engine\n",
            "rear\n",
            "wheel\n",
            "drive\n",
            "layout\n",
            "lamborghini\n",
            "grew\n",
            "rapidly\n",
            "first\n",
            "decade\n",
            "sale\n",
            "plunged\n",
            "wake\n",
            "worldwide\n",
            "financial\n",
            "downturn\n",
            "oil\n",
            "crisis\n",
            "firm\n",
            "ownership\n",
            "changed\n",
            "three\n",
            "time\n",
            "including\n",
            "bankruptcy\n",
            "american\n",
            "chrysler\n",
            "corporation\n",
            "took\n",
            "control\n",
            "lamborghini\n",
            "sold\n",
            "malaysian\n",
            "investment\n",
            "group\n",
            "mycom\n",
            "setdco\n",
            "indonesian\n",
            "group\n",
            "v\n",
            "power\n",
            "corporation\n",
            "mycom\n",
            "setdco\n",
            "v\n",
            "power\n",
            "sold\n",
            "lamborghini\n",
            "volkswagen\n",
            "group\n",
            "placed\n",
            "control\n",
            "group\n",
            "audi\n",
            "division\n",
            "new\n",
            "product\n",
            "model\n",
            "line\n",
            "introduced\n",
            "brand\n",
            "portfolio\n",
            "brought\n",
            "market\n",
            "saw\n",
            "increased\n",
            "productivity\n",
            "brand\n",
            "late\n",
            "worldwide\n",
            "financial\n",
            "crisis\n",
            "subsequent\n",
            "economic\n",
            "crisis\n",
            "lamborghini\n",
            "sale\n",
            "saw\n",
            "drop\n",
            "nearly\n",
            "per\n",
            "cent\n",
            "lamborghini\n",
            "currently\n",
            "produce\n",
            "v\n",
            "powered\n",
            "hurac\n",
            "n\n",
            "urus\n",
            "suv\n",
            "powered\n",
            "twin\n",
            "turbo\n",
            "v\n",
            "engine\n",
            "produce\n",
            "revuelto\n",
            "v\n",
            "electric\n",
            "hybrid\n",
            "addition\n",
            "company\n",
            "produce\n",
            "v\n",
            "engine\n",
            "offshore\n",
            "powerboat\n",
            "racing\n",
            "lamborghini\n",
            "trattori\n",
            "founded\n",
            "ferruccio\n",
            "lamborghini\n",
            "headquartered\n",
            "pieve\n",
            "di\n",
            "cento\n",
            "italy\n",
            "continues\n",
            "produce\n",
            "tractor\n",
            "since\n",
            "lamborghini\n",
            "trattori\n",
            "separate\n",
            "entity\n",
            "automobile\n",
            "manufacturer\n"
          ]
        }
      ]
    },
    {
      "cell_type": "code",
      "source": [
        "## Apply Stopwords. Lemmatize\n",
        "import re\n",
        "corpus = []\n",
        "for i in range(len(sentences)):\n",
        "  review = re.sub('[^a-zA-Z]',' ',sentences[i])\n",
        "  review = review.lower()\n",
        "  review = review.split()\n",
        "  review = [lemmatizer.lemmatize(word) for word in review if not word in set(stopwords.words('english'))]\n",
        "  review = ' '.join(review)\n",
        "  corpus.append(review)\n"
      ],
      "metadata": {
        "id": "jijxEgNCC_Fc"
      },
      "execution_count": 21,
      "outputs": []
    },
    {
      "cell_type": "code",
      "source": [
        "from sklearn.feature_extraction.text import CountVectorizer\n",
        "cv = CountVectorizer(binary=True,ngram_range=(3,3)) #trigram"
      ],
      "metadata": {
        "id": "qbImNfYvBgla"
      },
      "execution_count": 31,
      "outputs": []
    },
    {
      "cell_type": "code",
      "source": [
        "X=cv.fit_transform(corpus)"
      ],
      "metadata": {
        "id": "BiPKvjinB4ki"
      },
      "execution_count": 32,
      "outputs": []
    },
    {
      "cell_type": "code",
      "source": [
        "cv.vocabulary_"
      ],
      "metadata": {
        "collapsed": true,
        "id": "zu9Ah8UZB__8",
        "outputId": "c3e4fad0-1bc4-411e-d901-4f53890559f6",
        "colab": {
          "base_uri": "https://localhost:8080/"
        }
      },
      "execution_count": 33,
      "outputs": [
        {
          "output_type": "execute_result",
          "data": {
            "text/plain": [
              "{'automobili lamborghini italian': 4,\n",
              " 'lamborghini italian auto': 62,\n",
              " 'italian auto bili': 53,\n",
              " 'auto bili lambor': 2,\n",
              " 'bili lambor ni': 6,\n",
              " 'lambor ni italian': 57,\n",
              " 'ni italian manufacturer': 83,\n",
              " 'italian manufacturer luxury': 54,\n",
              " 'manufacturer luxury sport': 74,\n",
              " 'luxury sport car': 71,\n",
              " 'sport car suv': 114,\n",
              " 'car suv based': 9,\n",
              " 'suv based sant': 116,\n",
              " 'based sant agata': 5,\n",
              " 'sant agata bolognese': 105,\n",
              " 'company owned volkswagen': 14,\n",
              " 'owned volkswagen group': 86,\n",
              " 'volkswagen group subsidiary': 128,\n",
              " 'group subsidiary audi': 46,\n",
              " 'ferruccio lamborghini italian': 34,\n",
              " 'lamborghini italian manufacturing': 63,\n",
              " 'italian manufacturing magnate': 55,\n",
              " 'manufacturing magnate founded': 75,\n",
              " 'magnate founded automobili': 72,\n",
              " 'founded automobili ferruccio': 39,\n",
              " 'automobili ferruccio lamborghini': 3,\n",
              " 'ferruccio lamborghini compete': 32,\n",
              " 'lamborghini compete ferrari': 58,\n",
              " 'company noted using': 13,\n",
              " 'noted using rear': 84,\n",
              " 'using rear mid': 126,\n",
              " 'rear mid engine': 100,\n",
              " 'mid engine rear': 77,\n",
              " 'engine rear wheel': 30,\n",
              " 'rear wheel drive': 101,\n",
              " 'wheel drive layout': 130,\n",
              " 'lamborghini grew rapidly': 60,\n",
              " 'grew rapidly first': 41,\n",
              " 'rapidly first decade': 99,\n",
              " 'first decade sale': 38,\n",
              " 'decade sale plunged': 23,\n",
              " 'sale plunged wake': 103,\n",
              " 'plunged wake worldwide': 90,\n",
              " 'wake worldwide financial': 129,\n",
              " 'worldwide financial downturn': 132,\n",
              " 'financial downturn oil': 36,\n",
              " 'downturn oil crisis': 25,\n",
              " 'firm ownership changed': 37,\n",
              " 'ownership changed three': 87,\n",
              " 'changed three time': 11,\n",
              " 'three time including': 118,\n",
              " 'time including bankruptcy': 119,\n",
              " 'american chrysler corporation': 1,\n",
              " 'chrysler corporation took': 12,\n",
              " 'corporation took control': 19,\n",
              " 'took control lamborghini': 120,\n",
              " 'control lamborghini sold': 18,\n",
              " 'lamborghini sold malaysian': 65,\n",
              " 'sold malaysian investment': 113,\n",
              " 'malaysian investment group': 73,\n",
              " 'investment group mycom': 52,\n",
              " 'group mycom setdco': 43,\n",
              " 'mycom setdco indonesian': 79,\n",
              " 'setdco indonesian group': 109,\n",
              " 'indonesian group power': 50,\n",
              " 'group power corporation': 45,\n",
              " 'mycom setdco power': 80,\n",
              " 'setdco power sold': 110,\n",
              " 'power sold lamborghini': 92,\n",
              " 'sold lamborghini volkswagen': 112,\n",
              " 'lamborghini volkswagen group': 68,\n",
              " 'volkswagen group placed': 127,\n",
              " 'group placed control': 44,\n",
              " 'placed control group': 89,\n",
              " 'control group audi': 17,\n",
              " 'group audi division': 42,\n",
              " 'new product model': 82,\n",
              " 'product model line': 98,\n",
              " 'model line introduced': 78,\n",
              " 'line introduced brand': 70,\n",
              " 'introduced brand portfolio': 51,\n",
              " 'brand portfolio brought': 7,\n",
              " 'portfolio brought market': 91,\n",
              " 'brought market saw': 8,\n",
              " 'market saw increased': 76,\n",
              " 'saw increased productivity': 107,\n",
              " 'increased productivity brand': 49,\n",
              " 'late worldwide financial': 69,\n",
              " 'worldwide financial crisis': 131,\n",
              " 'financial crisis subsequent': 35,\n",
              " 'crisis subsequent economic': 21,\n",
              " 'subsequent economic crisis': 115,\n",
              " 'economic crisis lamborghini': 27,\n",
              " 'crisis lamborghini sale': 20,\n",
              " 'lamborghini sale saw': 64,\n",
              " 'sale saw drop': 104,\n",
              " 'saw drop nearly': 106,\n",
              " 'drop nearly per': 26,\n",
              " 'nearly per cent': 81,\n",
              " 'lamborghini currently produce': 59,\n",
              " 'currently produce powered': 22,\n",
              " 'produce powered hurac': 96,\n",
              " 'powered hurac urus': 93,\n",
              " 'hurac urus suv': 48,\n",
              " 'urus suv powered': 125,\n",
              " 'suv powered twin': 117,\n",
              " 'powered twin turbo': 94,\n",
              " 'twin turbo engine': 124,\n",
              " 'turbo engine produce': 123,\n",
              " 'engine produce revuelto': 29,\n",
              " 'produce revuelto electric': 97,\n",
              " 'revuelto electric hybrid': 102,\n",
              " 'addition company produce': 0,\n",
              " 'company produce engine': 15,\n",
              " 'produce engine offshore': 95,\n",
              " 'engine offshore powerboat': 28,\n",
              " 'offshore powerboat racing': 85,\n",
              " 'lamborghini trattori founded': 66,\n",
              " 'trattori founded ferruccio': 121,\n",
              " 'founded ferruccio lamborghini': 40,\n",
              " 'ferruccio lamborghini headquartered': 33,\n",
              " 'lamborghini headquartered pieve': 61,\n",
              " 'headquartered pieve di': 47,\n",
              " 'pieve di cento': 88,\n",
              " 'di cento italy': 24,\n",
              " 'cento italy continues': 10,\n",
              " 'italy continues produce': 56,\n",
              " 'continues produce tractor': 16,\n",
              " 'since lamborghini trattori': 111,\n",
              " 'lamborghini trattori separate': 67,\n",
              " 'trattori separate entity': 122,\n",
              " 'separate entity automobile': 108,\n",
              " 'entity automobile manufacturer': 31}"
            ]
          },
          "metadata": {},
          "execution_count": 33
        }
      ]
    },
    {
      "cell_type": "code",
      "source": [
        "corpus[0]"
      ],
      "metadata": {
        "id": "PPJ_GdMOCCP2",
        "outputId": "dd5c6524-3833-4abb-d4f2-ddd955aef517",
        "colab": {
          "base_uri": "https://localhost:8080/",
          "height": 54
        }
      },
      "execution_count": 34,
      "outputs": [
        {
          "output_type": "execute_result",
          "data": {
            "text/plain": [
              "'automobili lamborghini p italian auto bili lambor ni italian manufacturer luxury sport car suv based sant agata bolognese'"
            ],
            "application/vnd.google.colaboratory.intrinsic+json": {
              "type": "string"
            }
          },
          "metadata": {},
          "execution_count": 34
        }
      ]
    },
    {
      "cell_type": "code",
      "source": [
        "X[0].toarray()"
      ],
      "metadata": {
        "id": "ojCMXKuWCJy5",
        "outputId": "ccc8b831-1dba-4ff7-eb8f-2bb58a8df7e0",
        "colab": {
          "base_uri": "https://localhost:8080/"
        }
      },
      "execution_count": 35,
      "outputs": [
        {
          "output_type": "execute_result",
          "data": {
            "text/plain": [
              "array([[0, 0, 1, 0, 1, 1, 1, 0, 0, 1, 0, 0, 0, 0, 0, 0, 0, 0, 0, 0, 0, 0,\n",
              "        0, 0, 0, 0, 0, 0, 0, 0, 0, 0, 0, 0, 0, 0, 0, 0, 0, 0, 0, 0, 0, 0,\n",
              "        0, 0, 0, 0, 0, 0, 0, 0, 0, 1, 1, 0, 0, 1, 0, 0, 0, 0, 1, 0, 0, 0,\n",
              "        0, 0, 0, 0, 0, 1, 0, 0, 1, 0, 0, 0, 0, 0, 0, 0, 0, 1, 0, 0, 0, 0,\n",
              "        0, 0, 0, 0, 0, 0, 0, 0, 0, 0, 0, 0, 0, 0, 0, 0, 0, 1, 0, 0, 0, 0,\n",
              "        0, 0, 0, 0, 1, 0, 1, 0, 0, 0, 0, 0, 0, 0, 0, 0, 0, 0, 0, 0, 0, 0,\n",
              "        0]])"
            ]
          },
          "metadata": {},
          "execution_count": 35
        }
      ]
    },
    {
      "cell_type": "code",
      "source": [
        "## TFIDF\n",
        "from sklearn.feature_extraction.text import TfidfVectorizer\n",
        "cv=TfidfVectorizer()\n",
        "X=cv.fit_transform(corpus)"
      ],
      "metadata": {
        "id": "qPD3lUShCMSk"
      },
      "execution_count": 36,
      "outputs": []
    },
    {
      "cell_type": "code",
      "source": [
        "corpus[0]"
      ],
      "metadata": {
        "colab": {
          "base_uri": "https://localhost:8080/",
          "height": 54
        },
        "id": "gJ34QvFUMdkK",
        "outputId": "716cbbf1-59a3-4919-cf70-ecc391d2a8da"
      },
      "execution_count": 37,
      "outputs": [
        {
          "output_type": "execute_result",
          "data": {
            "text/plain": [
              "'automobili lamborghini p italian auto bili lambor ni italian manufacturer luxury sport car suv based sant agata bolognese'"
            ],
            "application/vnd.google.colaboratory.intrinsic+json": {
              "type": "string"
            }
          },
          "metadata": {},
          "execution_count": 37
        }
      ]
    },
    {
      "cell_type": "code",
      "source": [
        "X[0].toarray()"
      ],
      "metadata": {
        "colab": {
          "base_uri": "https://localhost:8080/"
        },
        "id": "4B32v0bkMesX",
        "outputId": "f2f2d959-e9b9-4a1a-862c-f683b4bf2685"
      },
      "execution_count": 38,
      "outputs": [
        {
          "output_type": "execute_result",
          "data": {
            "text/plain": [
              "array([[0.        , 0.24647364, 0.        , 0.        , 0.24647364,\n",
              "        0.        , 0.21332615, 0.        , 0.24647364, 0.24647364,\n",
              "        0.24647364, 0.        , 0.        , 0.24647364, 0.        ,\n",
              "        0.        , 0.        , 0.        , 0.        , 0.        ,\n",
              "        0.        , 0.        , 0.        , 0.        , 0.        ,\n",
              "        0.        , 0.        , 0.        , 0.        , 0.        ,\n",
              "        0.        , 0.        , 0.        , 0.        , 0.        ,\n",
              "        0.        , 0.        , 0.        , 0.        , 0.        ,\n",
              "        0.        , 0.        , 0.        , 0.        , 0.        ,\n",
              "        0.        , 0.        , 0.        , 0.        , 0.        ,\n",
              "        0.        , 0.42665231, 0.        , 0.24647364, 0.11489925,\n",
              "        0.        , 0.        , 0.        , 0.24647364, 0.        ,\n",
              "        0.        , 0.21332615, 0.        , 0.        , 0.        ,\n",
              "        0.        , 0.        , 0.        , 0.        , 0.24647364,\n",
              "        0.        , 0.        , 0.        , 0.        , 0.        ,\n",
              "        0.        , 0.        , 0.        , 0.        , 0.        ,\n",
              "        0.        , 0.        , 0.        , 0.        , 0.        ,\n",
              "        0.        , 0.        , 0.        , 0.        , 0.        ,\n",
              "        0.        , 0.24647364, 0.        , 0.        , 0.        ,\n",
              "        0.        , 0.        , 0.24647364, 0.        , 0.        ,\n",
              "        0.21332615, 0.        , 0.        , 0.        , 0.        ,\n",
              "        0.        , 0.        , 0.        , 0.        , 0.        ,\n",
              "        0.        , 0.        , 0.        , 0.        ]])"
            ]
          },
          "metadata": {},
          "execution_count": 38
        }
      ]
    },
    {
      "cell_type": "code",
      "source": [],
      "metadata": {
        "id": "au1lszKBMjPz"
      },
      "execution_count": null,
      "outputs": []
    }
  ]
}
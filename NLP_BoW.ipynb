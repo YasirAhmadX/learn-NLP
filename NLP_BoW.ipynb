{
  "nbformat": 4,
  "nbformat_minor": 0,
  "metadata": {
    "colab": {
      "provenance": [],
      "authorship_tag": "ABX9TyMxWaVxUqpPm45lOP/J9rbe",
      "include_colab_link": true
    },
    "kernelspec": {
      "name": "python3",
      "display_name": "Python 3"
    },
    "language_info": {
      "name": "python"
    }
  },
  "cells": [
    {
      "cell_type": "markdown",
      "metadata": {
        "id": "view-in-github",
        "colab_type": "text"
      },
      "source": [
        "<a href=\"https://colab.research.google.com/github/YasirAhmadX/learn-NLP/blob/main/NLP_BoW.ipynb\" target=\"_parent\"><img src=\"https://colab.research.google.com/assets/colab-badge.svg\" alt=\"Open In Colab\"/></a>"
      ]
    },
    {
      "cell_type": "code",
      "execution_count": 2,
      "metadata": {
        "colab": {
          "base_uri": "https://localhost:8080/"
        },
        "id": "uxERZqnj86w1",
        "outputId": "23fc55f8-0268-4669-9466-e583467e7261"
      },
      "outputs": [
        {
          "output_type": "stream",
          "name": "stdout",
          "text": [
            "Requirement already satisfied: nltk in /usr/local/lib/python3.10/dist-packages (3.8.1)\n",
            "Requirement already satisfied: click in /usr/local/lib/python3.10/dist-packages (from nltk) (8.1.7)\n",
            "Requirement already satisfied: joblib in /usr/local/lib/python3.10/dist-packages (from nltk) (1.4.2)\n",
            "Requirement already satisfied: regex>=2021.8.3 in /usr/local/lib/python3.10/dist-packages (from nltk) (2024.5.15)\n",
            "Requirement already satisfied: tqdm in /usr/local/lib/python3.10/dist-packages (from nltk) (4.66.4)\n"
          ]
        }
      ],
      "source": [
        "!pip install nltk"
      ]
    },
    {
      "cell_type": "code",
      "source": [
        "PARAGRAPH = \"\"\"Automobili Lamborghini S.p.A. (Italian: [autoˈmɔːbili lamborˈɡiːni]) is an Italian manufacturer of luxury sports cars and SUVs based in Sant'Agata Bolognese. The company is owned by the Volkswagen Group through its subsidiary Audi.\n",
        "\n",
        "Ferruccio Lamborghini (1916–1993), an Italian manufacturing magnate, founded Automobili Ferruccio Lamborghini S.p.A. in 1963 to compete with Ferrari. The company was noted for using a rear mid-engine, rear-wheel drive layout. Lamborghini grew rapidly during its first decade, but sales plunged in the wake of the 1973 worldwide financial downturn and the oil crisis. The firm's ownership changed three times after 1973, including a bankruptcy in 1978. American Chrysler Corporation took control of Lamborghini in 1987 and sold it to Malaysian investment group Mycom Setdco and Indonesian group V'Power Corporation in 1994. In 1998, Mycom Setdco and V'Power sold Lamborghini to the Volkswagen Group where it was placed under the control of the group's Audi division.\n",
        "\n",
        "New products and model lines were introduced to the brand's portfolio and brought to the market and saw an increased productivity for the brand. In the late 2000s, during the worldwide financial crisis and the subsequent economic crisis, Lamborghini's sales saw a drop of nearly 50 per cent.\n",
        "\n",
        "Lamborghini currently produces the V10-powered Huracán, Urus SUV powered by a twin-turbo V8 engine, and will produce the Revuelto, a V12/electric hybrid, as of 2024. In addition, the company produces V12 engines for offshore powerboat racing.\n",
        "\n",
        "Lamborghini Trattori, founded in 1948 by Ferruccio Lamborghini, is headquartered in Pieve di Cento, Italy, and continues to produce tractors. Since 1973, Lamborghini Trattori has been a separate entity from the automobile manufacturer.\"\"\"\n"
      ],
      "metadata": {
        "id": "jIEOEFr-9AY0"
      },
      "execution_count": 36,
      "outputs": []
    },
    {
      "cell_type": "code",
      "source": [
        "PARAGRAPH"
      ],
      "metadata": {
        "colab": {
          "base_uri": "https://localhost:8080/",
          "height": 217
        },
        "id": "yVdYiL-u9f3t",
        "outputId": "b14cb65f-ed05-4029-91ce-cbae8f38126c"
      },
      "execution_count": 37,
      "outputs": [
        {
          "output_type": "execute_result",
          "data": {
            "text/plain": [
              "\"Automobili Lamborghini S.p.A. (Italian: [autoˈmɔːbili lamborˈɡiːni]) is an Italian manufacturer of luxury sports cars and SUVs based in Sant'Agata Bolognese. The company is owned by the Volkswagen Group through its subsidiary Audi.\\n\\nFerruccio Lamborghini (1916–1993), an Italian manufacturing magnate, founded Automobili Ferruccio Lamborghini S.p.A. in 1963 to compete with Ferrari. The company was noted for using a rear mid-engine, rear-wheel drive layout. Lamborghini grew rapidly during its first decade, but sales plunged in the wake of the 1973 worldwide financial downturn and the oil crisis. The firm's ownership changed three times after 1973, including a bankruptcy in 1978. American Chrysler Corporation took control of Lamborghini in 1987 and sold it to Malaysian investment group Mycom Setdco and Indonesian group V'Power Corporation in 1994. In 1998, Mycom Setdco and V'Power sold Lamborghini to the Volkswagen Group where it was placed under the control of the group's Audi division.\\n\\nNew products and model lines were introduced to the brand's portfolio and brought to the market and saw an increased productivity for the brand. In the late 2000s, during the worldwide financial crisis and the subsequent economic crisis, Lamborghini's sales saw a drop of nearly 50 per cent.\\n\\nLamborghini currently produces the V10-powered Huracán, Urus SUV powered by a twin-turbo V8 engine, and will produce the Revuelto, a V12/electric hybrid, as of 2024. In addition, the company produces V12 engines for offshore powerboat racing.\\n\\nLamborghini Trattori, founded in 1948 by Ferruccio Lamborghini, is headquartered in Pieve di Cento, Italy, and continues to produce tractors. Since 1973, Lamborghini Trattori has been a separate entity from the automobile manufacturer.\""
            ],
            "application/vnd.google.colaboratory.intrinsic+json": {
              "type": "string"
            }
          },
          "metadata": {},
          "execution_count": 37
        }
      ]
    },
    {
      "cell_type": "code",
      "source": [
        "import nltk\n",
        "from nltk.stem import PorterStemmer\n",
        "from nltk.corpus import stopwords"
      ],
      "metadata": {
        "id": "mcxZcnOd9grU"
      },
      "execution_count": 6,
      "outputs": []
    },
    {
      "cell_type": "code",
      "source": [
        "#tokenization >-- coverts paragraphs into sentences and words\n",
        "nltk.download('punkt')\n",
        "sentences = nltk.sent_tokenize(PARAGRAPH)"
      ],
      "metadata": {
        "colab": {
          "base_uri": "https://localhost:8080/"
        },
        "id": "x5kptydl905z",
        "outputId": "a4e6368b-b461-422d-b445-48ab9d55c432"
      },
      "execution_count": 38,
      "outputs": [
        {
          "output_type": "stream",
          "name": "stderr",
          "text": [
            "[nltk_data] Downloading package punkt to /root/nltk_data...\n",
            "[nltk_data]   Package punkt is already up-to-date!\n"
          ]
        }
      ]
    },
    {
      "cell_type": "code",
      "source": [
        "print(sentences)"
      ],
      "metadata": {
        "colab": {
          "base_uri": "https://localhost:8080/"
        },
        "id": "2kDbQzez93dy",
        "outputId": "2a74395f-1ab3-4b01-b511-12c53c8af08f"
      },
      "execution_count": 11,
      "outputs": [
        {
          "output_type": "stream",
          "name": "stdout",
          "text": [
            "[\"Automobili Lamborghini S.p.A. (Italian: [autoˈmɔːbili lamborˈɡiːni]) is an Italian manufacturer of luxury sports cars and SUVs based in Sant'Agata Bolognese.\", 'The company is owned by the Volkswagen Group through its subsidiary Audi.', 'Ferruccio Lamborghini (1916–1993), an Italian manufacturing magnate, founded Automobili Ferruccio Lamborghini S.p.A. in 1963 to compete with Ferrari.', 'The company was noted for using a rear mid-engine, rear-wheel drive layout.', 'Lamborghini grew rapidly during its first decade, but sales plunged in the wake of the 1973 worldwide financial downturn and the oil crisis.', \"The firm's ownership changed three times after 1973, including a bankruptcy in 1978.\", \"American Chrysler Corporation took control of Lamborghini in 1987 and sold it to Malaysian investment group Mycom Setdco and Indonesian group V'Power Corporation in 1994.\", \"In 1998, Mycom Setdco and V'Power sold Lamborghini to the Volkswagen Group where it was placed under the control of the group's Audi division.\", \"New products and model lines were introduced to the brand's portfolio and brought to the market and saw an increased productivity for the brand.\", \"In the late 2000s, during the worldwide financial crisis and the subsequent economic crisis, Lamborghini's sales saw a drop of nearly 50 per cent.\", 'Lamborghini currently produces the V10-powered Huracán, Urus SUV powered by a twin-turbo V8 engine, and will produce the Revuelto, a V12/electric hybrid, as of 2024.', 'In addition, the company produces V12 engines for offshore powerboat racing.', 'Lamborghini Trattori, founded in 1948 by Ferruccio Lamborghini, is headquartered in Pieve di Cento, Italy, and continues to produce tractors.', 'Since 1973, Lamborghini Trattori has been a separate entity from the automobile manufacturer.']\n"
          ]
        }
      ]
    },
    {
      "cell_type": "code",
      "source": [
        "stemmer = PorterStemmer()"
      ],
      "metadata": {
        "id": "eL_uOk7g-KpD"
      },
      "execution_count": 14,
      "outputs": []
    },
    {
      "cell_type": "code",
      "source": [
        "stemmer.stem('finalize') #demo"
      ],
      "metadata": {
        "colab": {
          "base_uri": "https://localhost:8080/",
          "height": 36
        },
        "id": "K6tFPl70-bbN",
        "outputId": "7b2f659c-d9bc-499e-e30f-d19e5df3035c"
      },
      "execution_count": 18,
      "outputs": [
        {
          "output_type": "execute_result",
          "data": {
            "text/plain": [
              "'final'"
            ],
            "application/vnd.google.colaboratory.intrinsic+json": {
              "type": "string"
            }
          },
          "metadata": {},
          "execution_count": 18
        }
      ]
    },
    {
      "cell_type": "code",
      "source": [
        "stemmer.stem('history')"
      ],
      "metadata": {
        "colab": {
          "base_uri": "https://localhost:8080/",
          "height": 36
        },
        "id": "SkbFVSCB-xWo",
        "outputId": "e1044133-8921-4185-dc4e-6d6b799d1928"
      },
      "execution_count": 19,
      "outputs": [
        {
          "output_type": "execute_result",
          "data": {
            "text/plain": [
              "'histori'"
            ],
            "application/vnd.google.colaboratory.intrinsic+json": {
              "type": "string"
            }
          },
          "metadata": {},
          "execution_count": 19
        }
      ]
    },
    {
      "cell_type": "code",
      "source": [
        "stemmer.stem('historical')"
      ],
      "metadata": {
        "colab": {
          "base_uri": "https://localhost:8080/",
          "height": 36
        },
        "id": "LyVHZKcu-_G7",
        "outputId": "55ea5988-7d95-4a36-a6a1-3018e7d8f7b4"
      },
      "execution_count": 20,
      "outputs": [
        {
          "output_type": "execute_result",
          "data": {
            "text/plain": [
              "'histor'"
            ],
            "application/vnd.google.colaboratory.intrinsic+json": {
              "type": "string"
            }
          },
          "metadata": {},
          "execution_count": 20
        }
      ]
    },
    {
      "cell_type": "code",
      "source": [
        "nltk.download('wordnet')"
      ],
      "metadata": {
        "colab": {
          "base_uri": "https://localhost:8080/"
        },
        "id": "iPYKQ4lN_X3Q",
        "outputId": "fac33563-b9af-4ac9-e391-5a726e6f8d74"
      },
      "execution_count": 25,
      "outputs": [
        {
          "output_type": "stream",
          "name": "stderr",
          "text": [
            "[nltk_data] Downloading package wordnet to /root/nltk_data...\n"
          ]
        },
        {
          "output_type": "execute_result",
          "data": {
            "text/plain": [
              "True"
            ]
          },
          "metadata": {},
          "execution_count": 25
        }
      ]
    },
    {
      "cell_type": "code",
      "source": [
        " #Lemmatization\n",
        " from nltk.stem import WordNetLemmatizer\n",
        " lemmatizer = WordNetLemmatizer()"
      ],
      "metadata": {
        "id": "eAg-0zPT_ARm"
      },
      "execution_count": 26,
      "outputs": []
    },
    {
      "cell_type": "code",
      "source": [
        "lemmatizer.lemmatize('going')"
      ],
      "metadata": {
        "colab": {
          "base_uri": "https://localhost:8080/",
          "height": 36
        },
        "id": "_arVoMmd_L_i",
        "outputId": "1aaf313b-f7d1-4563-9f0a-2bdd7d15df6d"
      },
      "execution_count": 27,
      "outputs": [
        {
          "output_type": "execute_result",
          "data": {
            "text/plain": [
              "'going'"
            ],
            "application/vnd.google.colaboratory.intrinsic+json": {
              "type": "string"
            }
          },
          "metadata": {},
          "execution_count": 27
        }
      ]
    },
    {
      "cell_type": "code",
      "source": [
        "lemmatizer.lemmatize('goes')"
      ],
      "metadata": {
        "colab": {
          "base_uri": "https://localhost:8080/",
          "height": 36
        },
        "id": "AT2ki0EC_N_f",
        "outputId": "e194d457-b53f-464f-ee61-553a4e0096f2"
      },
      "execution_count": 30,
      "outputs": [
        {
          "output_type": "execute_result",
          "data": {
            "text/plain": [
              "'go'"
            ],
            "application/vnd.google.colaboratory.intrinsic+json": {
              "type": "string"
            }
          },
          "metadata": {},
          "execution_count": 30
        }
      ]
    },
    {
      "cell_type": "code",
      "source": [
        "#clean special characters\n",
        "import re"
      ],
      "metadata": {
        "id": "ACz2m_VR_14i"
      },
      "execution_count": 32,
      "outputs": []
    },
    {
      "cell_type": "code",
      "source": [
        "corpus = []\n",
        "for i in range(len(sentences)):\n",
        "  review = re.sub('[^a-zA-Z]',' ',sentences[i])\n",
        "  review = review.lower()\n",
        "  corpus.append(review)"
      ],
      "metadata": {
        "id": "cAsqcEka_lUy"
      },
      "execution_count": 33,
      "outputs": []
    },
    {
      "cell_type": "code",
      "source": [
        "corpus"
      ],
      "metadata": {
        "colab": {
          "base_uri": "https://localhost:8080/"
        },
        "id": "82XO-z08AVP5",
        "outputId": "7d7f19f8-f91f-4feb-faa5-26241a42a6f9"
      },
      "execution_count": 34,
      "outputs": [
        {
          "output_type": "execute_result",
          "data": {
            "text/plain": [
              "['automobili lamborghini s p a   italian   auto m  bili lambor  i ni   is an italian manufacturer of luxury sports cars and suvs based in sant agata bolognese ',\n",
              " 'the company is owned by the volkswagen group through its subsidiary audi ',\n",
              " 'ferruccio lamborghini              an italian manufacturing magnate  founded automobili ferruccio lamborghini s p a  in      to compete with ferrari ',\n",
              " 'the company was noted for using a rear mid engine  rear wheel drive layout ',\n",
              " 'lamborghini grew rapidly during its first decade  but sales plunged in the wake of the      worldwide financial downturn and the oil crisis ',\n",
              " 'the firm s ownership changed three times after       including a bankruptcy in      ',\n",
              " 'american chrysler corporation took control of lamborghini in      and sold it to malaysian investment group mycom setdco and indonesian group v power corporation in      ',\n",
              " 'in       mycom setdco and v power sold lamborghini to the volkswagen group where it was placed under the control of the group s audi division ',\n",
              " 'new products and model lines were introduced to the brand s portfolio and brought to the market and saw an increased productivity for the brand ',\n",
              " 'in the late     s  during the worldwide financial crisis and the subsequent economic crisis  lamborghini s sales saw a drop of nearly    per cent ',\n",
              " 'lamborghini currently produces the v   powered hurac n  urus suv powered by a twin turbo v  engine  and will produce the revuelto  a v   electric hybrid  as of      ',\n",
              " 'in addition  the company produces v   engines for offshore powerboat racing ',\n",
              " 'lamborghini trattori  founded in      by ferruccio lamborghini  is headquartered in pieve di cento  italy  and continues to produce tractors ',\n",
              " 'since       lamborghini trattori has been a separate entity from the automobile manufacturer ']"
            ]
          },
          "metadata": {},
          "execution_count": 34
        }
      ]
    },
    {
      "cell_type": "code",
      "source": [
        "nltk.download('stopwords')"
      ],
      "metadata": {
        "id": "BN8-9ymaBFAZ",
        "outputId": "67aac851-fcd9-49ac-8b74-9160f43a9b52",
        "colab": {
          "base_uri": "https://localhost:8080/"
        }
      },
      "execution_count": 40,
      "outputs": [
        {
          "output_type": "stream",
          "name": "stderr",
          "text": [
            "[nltk_data] Downloading package stopwords to /root/nltk_data...\n",
            "[nltk_data]   Unzipping corpora/stopwords.zip.\n"
          ]
        },
        {
          "output_type": "execute_result",
          "data": {
            "text/plain": [
              "True"
            ]
          },
          "metadata": {},
          "execution_count": 40
        }
      ]
    },
    {
      "cell_type": "code",
      "source": [
        "##apply stemming\n",
        "for i in corpus:\n",
        "  words= nltk.word_tokenize(i)\n",
        "  for word in words:\n",
        "    if word not in set(stopwords.words('english')):\n",
        "      print(stemmer.stem(word))"
      ],
      "metadata": {
        "colab": {
          "base_uri": "https://localhost:8080/"
        },
        "collapsed": true,
        "id": "HQnDpLv5AZYj",
        "outputId": "3fe55d2b-ab89-4de5-85b7-71132e588885"
      },
      "execution_count": 41,
      "outputs": [
        {
          "output_type": "stream",
          "name": "stdout",
          "text": [
            "automobili\n",
            "lamborghini\n",
            "p\n",
            "italian\n",
            "auto\n",
            "bili\n",
            "lambor\n",
            "ni\n",
            "italian\n",
            "manufactur\n",
            "luxuri\n",
            "sport\n",
            "car\n",
            "suv\n",
            "base\n",
            "sant\n",
            "agata\n",
            "bolognes\n",
            "compani\n",
            "own\n",
            "volkswagen\n",
            "group\n",
            "subsidiari\n",
            "audi\n",
            "ferruccio\n",
            "lamborghini\n",
            "italian\n",
            "manufactur\n",
            "magnat\n",
            "found\n",
            "automobili\n",
            "ferruccio\n",
            "lamborghini\n",
            "p\n",
            "compet\n",
            "ferrari\n",
            "compani\n",
            "note\n",
            "use\n",
            "rear\n",
            "mid\n",
            "engin\n",
            "rear\n",
            "wheel\n",
            "drive\n",
            "layout\n",
            "lamborghini\n",
            "grew\n",
            "rapidli\n",
            "first\n",
            "decad\n",
            "sale\n",
            "plung\n",
            "wake\n",
            "worldwid\n",
            "financi\n",
            "downturn\n",
            "oil\n",
            "crisi\n",
            "firm\n",
            "ownership\n",
            "chang\n",
            "three\n",
            "time\n",
            "includ\n",
            "bankruptci\n",
            "american\n",
            "chrysler\n",
            "corpor\n",
            "took\n",
            "control\n",
            "lamborghini\n",
            "sold\n",
            "malaysian\n",
            "invest\n",
            "group\n",
            "mycom\n",
            "setdco\n",
            "indonesian\n",
            "group\n",
            "v\n",
            "power\n",
            "corpor\n",
            "mycom\n",
            "setdco\n",
            "v\n",
            "power\n",
            "sold\n",
            "lamborghini\n",
            "volkswagen\n",
            "group\n",
            "place\n",
            "control\n",
            "group\n",
            "audi\n",
            "divis\n",
            "new\n",
            "product\n",
            "model\n",
            "line\n",
            "introduc\n",
            "brand\n",
            "portfolio\n",
            "brought\n",
            "market\n",
            "saw\n",
            "increas\n",
            "product\n",
            "brand\n",
            "late\n",
            "worldwid\n",
            "financi\n",
            "crisi\n",
            "subsequ\n",
            "econom\n",
            "crisi\n",
            "lamborghini\n",
            "sale\n",
            "saw\n",
            "drop\n",
            "nearli\n",
            "per\n",
            "cent\n",
            "lamborghini\n",
            "current\n",
            "produc\n",
            "v\n",
            "power\n",
            "hurac\n",
            "n\n",
            "uru\n",
            "suv\n",
            "power\n",
            "twin\n",
            "turbo\n",
            "v\n",
            "engin\n",
            "produc\n",
            "revuelto\n",
            "v\n",
            "electr\n",
            "hybrid\n",
            "addit\n",
            "compani\n",
            "produc\n",
            "v\n",
            "engin\n",
            "offshor\n",
            "powerboat\n",
            "race\n",
            "lamborghini\n",
            "trattori\n",
            "found\n",
            "ferruccio\n",
            "lamborghini\n",
            "headquart\n",
            "piev\n",
            "di\n",
            "cento\n",
            "itali\n",
            "continu\n",
            "produc\n",
            "tractor\n",
            "sinc\n",
            "lamborghini\n",
            "trattori\n",
            "separ\n",
            "entiti\n",
            "automobil\n",
            "manufactur\n"
          ]
        }
      ]
    },
    {
      "cell_type": "code",
      "source": [
        "## lemmatization\n",
        "for i in corpus:\n",
        "  words= nltk.word_tokenize(i)\n",
        "  for word in words:\n",
        "    if word not in set(stopwords.words('english')):\n",
        "      print(lemmatizer.lemmatize(word))"
      ],
      "metadata": {
        "collapsed": true,
        "id": "qDG8PNFCBAsP",
        "outputId": "3dbb3d86-1cd8-4766-e6d7-f7dc0c3a9113",
        "colab": {
          "base_uri": "https://localhost:8080/"
        }
      },
      "execution_count": 43,
      "outputs": [
        {
          "output_type": "stream",
          "name": "stdout",
          "text": [
            "automobili\n",
            "lamborghini\n",
            "p\n",
            "italian\n",
            "auto\n",
            "bili\n",
            "lambor\n",
            "ni\n",
            "italian\n",
            "manufacturer\n",
            "luxury\n",
            "sport\n",
            "car\n",
            "suv\n",
            "based\n",
            "sant\n",
            "agata\n",
            "bolognese\n",
            "company\n",
            "owned\n",
            "volkswagen\n",
            "group\n",
            "subsidiary\n",
            "audi\n",
            "ferruccio\n",
            "lamborghini\n",
            "italian\n",
            "manufacturing\n",
            "magnate\n",
            "founded\n",
            "automobili\n",
            "ferruccio\n",
            "lamborghini\n",
            "p\n",
            "compete\n",
            "ferrari\n",
            "company\n",
            "noted\n",
            "using\n",
            "rear\n",
            "mid\n",
            "engine\n",
            "rear\n",
            "wheel\n",
            "drive\n",
            "layout\n",
            "lamborghini\n",
            "grew\n",
            "rapidly\n",
            "first\n",
            "decade\n",
            "sale\n",
            "plunged\n",
            "wake\n",
            "worldwide\n",
            "financial\n",
            "downturn\n",
            "oil\n",
            "crisis\n",
            "firm\n",
            "ownership\n",
            "changed\n",
            "three\n",
            "time\n",
            "including\n",
            "bankruptcy\n",
            "american\n",
            "chrysler\n",
            "corporation\n",
            "took\n",
            "control\n",
            "lamborghini\n",
            "sold\n",
            "malaysian\n",
            "investment\n",
            "group\n",
            "mycom\n",
            "setdco\n",
            "indonesian\n",
            "group\n",
            "v\n",
            "power\n",
            "corporation\n",
            "mycom\n",
            "setdco\n",
            "v\n",
            "power\n",
            "sold\n",
            "lamborghini\n",
            "volkswagen\n",
            "group\n",
            "placed\n",
            "control\n",
            "group\n",
            "audi\n",
            "division\n",
            "new\n",
            "product\n",
            "model\n",
            "line\n",
            "introduced\n",
            "brand\n",
            "portfolio\n",
            "brought\n",
            "market\n",
            "saw\n",
            "increased\n",
            "productivity\n",
            "brand\n",
            "late\n",
            "worldwide\n",
            "financial\n",
            "crisis\n",
            "subsequent\n",
            "economic\n",
            "crisis\n",
            "lamborghini\n",
            "sale\n",
            "saw\n",
            "drop\n",
            "nearly\n",
            "per\n",
            "cent\n",
            "lamborghini\n",
            "currently\n",
            "produce\n",
            "v\n",
            "powered\n",
            "hurac\n",
            "n\n",
            "urus\n",
            "suv\n",
            "powered\n",
            "twin\n",
            "turbo\n",
            "v\n",
            "engine\n",
            "produce\n",
            "revuelto\n",
            "v\n",
            "electric\n",
            "hybrid\n",
            "addition\n",
            "company\n",
            "produce\n",
            "v\n",
            "engine\n",
            "offshore\n",
            "powerboat\n",
            "racing\n",
            "lamborghini\n",
            "trattori\n",
            "founded\n",
            "ferruccio\n",
            "lamborghini\n",
            "headquartered\n",
            "pieve\n",
            "di\n",
            "cento\n",
            "italy\n",
            "continues\n",
            "produce\n",
            "tractor\n",
            "since\n",
            "lamborghini\n",
            "trattori\n",
            "separate\n",
            "entity\n",
            "automobile\n",
            "manufacturer\n"
          ]
        }
      ]
    },
    {
      "cell_type": "code",
      "source": [
        "## Apply Stopwords. Lemmatize\n",
        "import re\n",
        "corpus = []\n",
        "for i in range(len(sentences)):\n",
        "  review = re.sub('[^a-zA-Z]',' ',sentences[i])\n",
        "  review = review.lower()\n",
        "  review = review.split()\n",
        "  review = [lemmatizer.lemmatize(word) for word in review if not word in set(stopwords.words('english'))]\n",
        "  review = ' '.join(review)\n",
        "  corpus.append(review)\n"
      ],
      "metadata": {
        "id": "jijxEgNCC_Fc"
      },
      "execution_count": 49,
      "outputs": []
    },
    {
      "cell_type": "code",
      "source": [
        "from sklearn.feature_extraction.text import CountVectorizer\n",
        "cv = CountVectorizer(max_features=1500)"
      ],
      "metadata": {
        "id": "qbImNfYvBgla"
      },
      "execution_count": 50,
      "outputs": []
    },
    {
      "cell_type": "code",
      "source": [
        "X=cv.fit_transform(corpus)"
      ],
      "metadata": {
        "id": "BiPKvjinB4ki"
      },
      "execution_count": 51,
      "outputs": []
    },
    {
      "cell_type": "code",
      "source": [
        "cv.vocabulary_"
      ],
      "metadata": {
        "collapsed": true,
        "id": "zu9Ah8UZB__8",
        "outputId": "e2aa2c27-8c8b-4c85-e3a3-fab953b178da",
        "colab": {
          "base_uri": "https://localhost:8080/"
        }
      },
      "execution_count": 52,
      "outputs": [
        {
          "output_type": "execute_result",
          "data": {
            "text/plain": [
              "{'automobili': 6,\n",
              " 'lamborghini': 54,\n",
              " 'italian': 51,\n",
              " 'auto': 4,\n",
              " 'bili': 9,\n",
              " 'lambor': 53,\n",
              " 'ni': 69,\n",
              " 'manufacturer': 61,\n",
              " 'luxury': 58,\n",
              " 'sport': 97,\n",
              " 'car': 13,\n",
              " 'suv': 100,\n",
              " 'based': 8,\n",
              " 'sant': 91,\n",
              " 'agata': 1,\n",
              " 'bolognese': 10,\n",
              " 'company': 18,\n",
              " 'owned': 73,\n",
              " 'volkswagen': 110,\n",
              " 'group': 42,\n",
              " 'subsidiary': 99,\n",
              " 'audi': 3,\n",
              " 'ferruccio': 36,\n",
              " 'manufacturing': 62,\n",
              " 'magnate': 59,\n",
              " 'founded': 40,\n",
              " 'compete': 19,\n",
              " 'ferrari': 35,\n",
              " 'noted': 70,\n",
              " 'using': 109,\n",
              " 'rear': 88,\n",
              " 'mid': 64,\n",
              " 'engine': 33,\n",
              " 'wheel': 112,\n",
              " 'drive': 29,\n",
              " 'layout': 56,\n",
              " 'grew': 41,\n",
              " 'rapidly': 87,\n",
              " 'first': 39,\n",
              " 'decade': 25,\n",
              " 'sale': 90,\n",
              " 'plunged': 78,\n",
              " 'wake': 111,\n",
              " 'worldwide': 113,\n",
              " 'financial': 37,\n",
              " 'downturn': 28,\n",
              " 'oil': 72,\n",
              " 'crisis': 23,\n",
              " 'firm': 38,\n",
              " 'ownership': 74,\n",
              " 'changed': 16,\n",
              " 'three': 101,\n",
              " 'time': 102,\n",
              " 'including': 46,\n",
              " 'bankruptcy': 7,\n",
              " 'american': 2,\n",
              " 'chrysler': 17,\n",
              " 'corporation': 22,\n",
              " 'took': 103,\n",
              " 'control': 21,\n",
              " 'sold': 96,\n",
              " 'malaysian': 60,\n",
              " 'investment': 50,\n",
              " 'mycom': 66,\n",
              " 'setdco': 94,\n",
              " 'indonesian': 48,\n",
              " 'power': 80,\n",
              " 'placed': 77,\n",
              " 'division': 27,\n",
              " 'new': 68,\n",
              " 'product': 84,\n",
              " 'model': 65,\n",
              " 'line': 57,\n",
              " 'introduced': 49,\n",
              " 'brand': 11,\n",
              " 'portfolio': 79,\n",
              " 'brought': 12,\n",
              " 'market': 63,\n",
              " 'saw': 92,\n",
              " 'increased': 47,\n",
              " 'productivity': 85,\n",
              " 'late': 55,\n",
              " 'subsequent': 98,\n",
              " 'economic': 31,\n",
              " 'drop': 30,\n",
              " 'nearly': 67,\n",
              " 'per': 75,\n",
              " 'cent': 14,\n",
              " 'currently': 24,\n",
              " 'produce': 83,\n",
              " 'powered': 82,\n",
              " 'hurac': 44,\n",
              " 'urus': 108,\n",
              " 'twin': 107,\n",
              " 'turbo': 106,\n",
              " 'revuelto': 89,\n",
              " 'electric': 32,\n",
              " 'hybrid': 45,\n",
              " 'addition': 0,\n",
              " 'offshore': 71,\n",
              " 'powerboat': 81,\n",
              " 'racing': 86,\n",
              " 'trattori': 105,\n",
              " 'headquartered': 43,\n",
              " 'pieve': 76,\n",
              " 'di': 26,\n",
              " 'cento': 15,\n",
              " 'italy': 52,\n",
              " 'continues': 20,\n",
              " 'tractor': 104,\n",
              " 'since': 95,\n",
              " 'separate': 93,\n",
              " 'entity': 34,\n",
              " 'automobile': 5}"
            ]
          },
          "metadata": {},
          "execution_count": 52
        }
      ]
    },
    {
      "cell_type": "code",
      "source": [
        "corpus[0]"
      ],
      "metadata": {
        "id": "PPJ_GdMOCCP2",
        "outputId": "88b2546d-bb78-460a-f6d7-ad7399f4afac",
        "colab": {
          "base_uri": "https://localhost:8080/",
          "height": 54
        }
      },
      "execution_count": 53,
      "outputs": [
        {
          "output_type": "execute_result",
          "data": {
            "text/plain": [
              "'automobili lamborghini p italian auto bili lambor ni italian manufacturer luxury sport car suv based sant agata bolognese'"
            ],
            "application/vnd.google.colaboratory.intrinsic+json": {
              "type": "string"
            }
          },
          "metadata": {},
          "execution_count": 53
        }
      ]
    },
    {
      "cell_type": "code",
      "source": [
        "X[0].toarray()"
      ],
      "metadata": {
        "id": "ojCMXKuWCJy5",
        "outputId": "8e57c549-6980-44ca-faa8-aea3a9a94b11",
        "colab": {
          "base_uri": "https://localhost:8080/"
        }
      },
      "execution_count": 54,
      "outputs": [
        {
          "output_type": "execute_result",
          "data": {
            "text/plain": [
              "array([[0, 1, 0, 0, 1, 0, 1, 0, 1, 1, 1, 0, 0, 1, 0, 0, 0, 0, 0, 0, 0, 0,\n",
              "        0, 0, 0, 0, 0, 0, 0, 0, 0, 0, 0, 0, 0, 0, 0, 0, 0, 0, 0, 0, 0, 0,\n",
              "        0, 0, 0, 0, 0, 0, 0, 2, 0, 1, 1, 0, 0, 0, 1, 0, 0, 1, 0, 0, 0, 0,\n",
              "        0, 0, 0, 1, 0, 0, 0, 0, 0, 0, 0, 0, 0, 0, 0, 0, 0, 0, 0, 0, 0, 0,\n",
              "        0, 0, 0, 1, 0, 0, 0, 0, 0, 1, 0, 0, 1, 0, 0, 0, 0, 0, 0, 0, 0, 0,\n",
              "        0, 0, 0, 0]])"
            ]
          },
          "metadata": {},
          "execution_count": 54
        }
      ]
    },
    {
      "cell_type": "code",
      "source": [],
      "metadata": {
        "id": "qPD3lUShCMSk"
      },
      "execution_count": null,
      "outputs": []
    }
  ]
}